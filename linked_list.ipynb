{
 "cells": [
  {
   "cell_type": "code",
   "execution_count": 3,
   "id": "53c5ad71-7ea3-4bbe-aaa2-0d620be06e01",
   "metadata": {},
   "outputs": [],
   "source": [
    "class Node:\n",
    "    def __init__(self, value):\n",
    "        self.value = value\n",
    "        self.next = None\n",
    "        "
   ]
  },
  {
   "cell_type": "code",
   "execution_count": 35,
   "id": "fb761859-cad2-425a-bfc6-5eeeabfdbdfe",
   "metadata": {},
   "outputs": [],
   "source": [
    "class LinkedList:\n",
    "    def __init__(self):\n",
    "        self.head = None\n",
    "\n",
    "    def append(self, value):         \n",
    "        new_node = Node(value)\n",
    "        if self.head == None:\n",
    "            self.head = new_node\n",
    "        else:\n",
    "            current = self.head\n",
    "            while current.next:\n",
    "                current = current.next\n",
    "            current.next = new_node\n",
    "\n",
    "    def insert_after(self, pre_node, value):\n",
    "        new_node = Node(value)\n",
    "        new_node.next = pre_node.next\n",
    "        pre_node.next = new_node\n",
    "\n",
    "    def delete_node(self, value):\n",
    "        target_node = Node(value)\n",
    "        if self.head == None:\n",
    "                pass\n",
    "        elif target_node == self.head:\n",
    "            self.head = target_node.next\n",
    "        else:\n",
    "            current = self.head\n",
    "            while current.next:\n",
    "                if current.next == target_node:\n",
    "                    current.next = target_node.next\n",
    "                else:\n",
    "                    current.next = current\n",
    "                    \n",
    "    def display(self):\n",
    "        current = self.head\n",
    "        while current:\n",
    "            print(f'[{current.value}|指针{current.next}]', end=' -> ')\n",
    "            current = current.next\n",
    "            \n",
    "        print(\"None\")"
   ]
  },
  {
   "cell_type": "markdown",
   "id": "3843355b-b5eb-4d14-a159-5fef7f361b99",
   "metadata": {},
   "source": [
    "## 定义一个player的类，要求在构造方法中具有若干实力属性，例如name/HP/...... ##\n",
    "## 要求player类的实例具有一个coordinate的属性，让我么可以通过player实例的position来计算两个player之间的距离 ##\n",
    "## 同时可以构建一个实例函数，attack()，如果另一个player在攻击范围内，可以对其发起攻击并减少HP ##\n",
    "## player有一个实例方法move()，用于改变自身的position ##"
   ]
  },
  {
   "cell_type": "code",
   "execution_count": 73,
   "id": "c9b58df7-c685-48f2-9405-a52b0cf5dd18",
   "metadata": {},
   "outputs": [],
   "source": [
    "class Coordination:\n",
    "    def __init__(self, x, y):\n",
    "        self.x = x\n",
    "        self.y = y\n",
    "    def distance(c1,c2):\n",
    "        d = int(((c1.x-c2.x)**2 + (c1.y-c2.y)**2)**(1/2))\n",
    "        return d\n"
   ]
  },
  {
   "cell_type": "code",
   "execution_count": 75,
   "id": "627e059e-a193-469e-b749-588a4bcfc872",
   "metadata": {},
   "outputs": [],
   "source": [
    "class Player:\n",
    "    def __init__(self, name: str, HP: int, range1: int, x: int, y: int, attack_power: int):\n",
    "        self.name = name\n",
    "        self.HP = HP\n",
    "        self.range1 = range1\n",
    "        self.position = Coordination(x, y)\n",
    "        self.attack_power = attack_power\n",
    "    def attack(self,object1):\n",
    "        d1 = Coordination.distance(self.position, object1.position)\n",
    "        if d1 <= self.range1:\n",
    "            object1.HP -= self.attack_power\n",
    "        else: \n",
    "            print('range1 not enough!')\n",
    "\n",
    "    def move(self, length, direction):\n",
    "        if direction == 'up':\n",
    "            self.position.x += length\n",
    "        elif direction == 'down':\n",
    "            self.position.y -= length\n",
    "        elif direction == 'left':\n",
    "            self.position.x -= length\n",
    "        elif direction == 'right':\n",
    "            self.position.x += length\n",
    "        else:\n",
    "            pass\n"
   ]
  },
  {
   "cell_type": "code",
   "execution_count": null,
   "id": "dbbd2cc1-0d1d-45eb-8714-1f9349988a09",
   "metadata": {},
   "outputs": [],
   "source": []
  },
  {
   "cell_type": "markdown",
   "id": "d06a38db-39b9-4a58-a3b0-f9b965e57d6e",
   "metadata": {},
   "source": [
    "### 练习：银行系统\n",
    "**要求**\n",
    "1. 定义一个BankAccount：账户名，账户余额（私有属性\n",
    "2. deposit()；存款，如果输入为负数，则抛出一个ValueError的异常\n",
    "3. withdraw()：取款，如果是负数或大于账户余额抛出一个ValueError的异常\n",
    "4. get_balance()：返回当前余额\n",
    "5. 创建银行账户，执行该用户多次取款存款的操作，每次操作后显示账户余额并记录到一个log日志中（记录用户行为 和 余额\n",
    "6. 对用户的输入进行异常处理，确保用户输入为有效数字"
   ]
  },
  {
   "cell_type": "code",
   "execution_count": 3,
   "id": "22db2725-f63a-4b3e-b9b3-f8aee62a52aa",
   "metadata": {},
   "outputs": [],
   "source": [
    "from datetime import datetime\n",
    "\n",
    "class Logger:\n",
    "    def __init__(self, filename: str):\n",
    "        self.filename = filename\n",
    "\n",
    "    def dp(self, money):\n",
    "        with open(\"self.filename\", \"a+\") as f:\n",
    "            f.write(f\"{datetime.now()} | deposit = {money}\\n\")\n",
    "\n",
    "    def wd(self, money):\n",
    "        with open(\"self.filename\", \"a+\") as f:\n",
    "            f.write(f\"{datetime.now()} | withdraw = {money}\\n\")\n",
    "    \n",
    "    def warning(self, w: str):\n",
    "        with open(\"self.filename\", \"a+\") as f:\n",
    "            f.write(f\"{datetime.now()} | {w}\")\n",
    "\n",
    "log = Logger(\"ZCAccountLogger.log\")"
   ]
  },
  {
   "cell_type": "code",
   "execution_count": 5,
   "id": "6c50b1f7-b12a-4982-b090-cb6ce852398e",
   "metadata": {},
   "outputs": [],
   "source": [
    "class ValueError(Exception):\n",
    "    def __init__(self, expression: str):\n",
    "        self.expression = expression\n",
    "    def __str__(self):\n",
    "        return self.expression\n",
    "class BankAccount:\n",
    "    def __init__(self, name, filename: str):\n",
    "        self.name = name\n",
    "        self.balance = 0.0\n",
    "        self.log = Logger(filename)\n",
    "        \n",
    "    def get_balance(self):\n",
    "        print(self.balance)\n",
    "\n",
    "    def deposit(self, money: float):\n",
    "        try:\n",
    "            if money <= 0.0:\n",
    "                raise ValueError(\"ValueError\")\n",
    "                log.warning(\"ValueError\")\n",
    "            else:\n",
    "                self.balance += money\n",
    "                log.dp(money)   \n",
    "        except TypeError:\n",
    "            print(\"!\")\n",
    "            log.warning(\"!\")\n",
    "    def withdraw(self, money: float):\n",
    "        try:\n",
    "            if money <= 0.0 or money > self.balance:\n",
    "                raise ValueError(\"ValueError\")\n",
    "                log.warning(\"ValueError\")\n",
    "            else:\n",
    "                self.balance -= money\n",
    "                log.wd(money)   \n",
    "        except TypeError:\n",
    "            print(\"!\")\n",
    "            log.warning(\"!\")\n",
    "        "
   ]
  },
  {
   "cell_type": "code",
   "execution_count": 10,
   "id": "7fc8da8e-4967-4cb0-b295-76b5017de49f",
   "metadata": {},
   "outputs": [
    {
     "name": "stdout",
     "output_type": "stream",
     "text": [
      "5.0\n",
      "0.0\n"
     ]
    }
   ],
   "source": [
    "My_account = BankAccount(\"ZC\", \"ZCAccountLogger.log\")\n",
    "My_account.deposit(5.0)\n",
    "My_account.get_balance()\n",
    "My_account.withdraw(5.0)\n",
    "My_account.get_balance()"
   ]
  },
  {
   "cell_type": "code",
   "execution_count": null,
   "id": "b747099b-1d0d-4592-b345-7b59ddd976ab",
   "metadata": {},
   "outputs": [],
   "source": []
  }
 ],
 "metadata": {
  "kernelspec": {
   "display_name": "Python [conda env:base] *",
   "language": "python",
   "name": "conda-base-py"
  },
  "language_info": {
   "codemirror_mode": {
    "name": "ipython",
    "version": 3
   },
   "file_extension": ".py",
   "mimetype": "text/x-python",
   "name": "python",
   "nbconvert_exporter": "python",
   "pygments_lexer": "ipython3",
   "version": "3.12.7"
  }
 },
 "nbformat": 4,
 "nbformat_minor": 5
}
