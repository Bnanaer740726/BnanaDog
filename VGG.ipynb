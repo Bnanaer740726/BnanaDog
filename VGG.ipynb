{
 "cells": [
  {
   "cell_type": "code",
   "execution_count": 26,
   "id": "2c3ba09a-aac0-4d1c-8637-02c123de4ff3",
   "metadata": {},
   "outputs": [],
   "source": [
    "import torch.nn as nn\n",
    "import torch"
   ]
  },
  {
   "cell_type": "code",
   "execution_count": 34,
   "id": "2786308b-493d-4fe7-bcae-b74c470dad34",
   "metadata": {},
   "outputs": [],
   "source": [
    "def vgg_block(num_convs, in_channels, out_channels):\n",
    "    \"\"\" define VGG block with parameter num_convs \"\"\"\n",
    "    layers = []\n",
    "    for i in range(num_convs):\n",
    "        layers.append(nn.Conv2d(in_channels, out_channels, kernel_size=3, padding=1))\n",
    "        layers.append(nn.ReLU())\n",
    "        in_channels = out_channels\n",
    "    layers.append(nn.MaxPool2d(kernel_size=2, stride=2))\n",
    "    return nn.Sequential(*layers)\n",
    "    "
   ]
  },
  {
   "cell_type": "code",
   "execution_count": 36,
   "id": "2b8055eb-a3be-4b96-858b-4b184234382f",
   "metadata": {},
   "outputs": [],
   "source": [
    "def vgg(conv_arch, input_size):\n",
    "    \"\"\" define VGG network with parameter conv_arch \"\"\"\n",
    "    conv_blks = []\n",
    "    in_channels = 1 #输入黑白照片单通道，假设的话\n",
    "    for (num_convs, out_channels) in conv_arch:  #卷积层\n",
    "        conv_blks.append(vgg_block(num_convs, in_channels, out_channels))\n",
    "        in_channels = out_channels\n",
    "    \n",
    "    test_input = torch.randn(1, 1, input_size, input_size)\n",
    "    flatten_len = len(nn.Sequential(*conv_blks)(test_input).view(-1)) #创建测试输入，动态计算输入全连接层的长度\n",
    "   \n",
    "    return nn.Sequential(\n",
    "        *conv_blks, nn.Flatten(), #全连接层\n",
    "        nn.Linear(flatten_len, 4096), nn.ReLU(), nn.Dropout(0.5),\n",
    "        nn.Linear(4096, 4096), nn.ReLU(), nn.Dropout(0.5),\n",
    "        nn.Linear(4096, 10))\n",
    "# 这个函数返回的是一个类，所以也可以进行实例化和输入数据，nn.Sequential是nn.Module的子类，自动继承父类所有的函数，所以可以输入数据并前向传播\n"
   ]
  },
  {
   "cell_type": "code",
   "execution_count": 38,
   "id": "f55517d6-ff28-45ad-a27a-ea2d586555a0",
   "metadata": {},
   "outputs": [],
   "source": [
    "conv_arch = ((1, 64), (1, 128), (2, 256), (2, 512), (2, 512)) #某vgg网络结构，可能经典？\n",
    "net = vgg(conv_arch, input_size=224) #实例化"
   ]
  },
  {
   "cell_type": "markdown",
   "id": "b8b5cd58-d0e4-4c2d-8ded-1f1b007e5ce6",
   "metadata": {},
   "source": [
    "## model train"
   ]
  },
  {
   "cell_type": "code",
   "execution_count": 41,
   "id": "178ed65c-85eb-4493-bcf6-7aa98e1fd828",
   "metadata": {},
   "outputs": [],
   "source": [
    "# 载入数据\n",
    "import torch\n",
    "import torchvision\n",
    "from torch.utils import data\n",
    "from torchvision import transforms\n",
    "\n",
    "trans = transforms.ToTensor()\n",
    "mnist_train = torchvision.datasets.FashionMNIST(root=\"../torchvision_data\", train=True, transform=trans, download = True)\n",
    "mnist_test = torchvision.datasets.FashionMNIST(root=\"../torchvision_data\", train=False, transform=trans, download = True)"
   ]
  },
  {
   "cell_type": "code",
   "execution_count": 42,
   "id": "14a1cb64-01bf-45ae-a7ed-88c6d45dc0ff",
   "metadata": {},
   "outputs": [
    {
     "data": {
      "text/plain": [
       "40"
      ]
     },
     "execution_count": 42,
     "metadata": {},
     "output_type": "execute_result"
    }
   ],
   "source": [
    "from torch.utils.data import DataLoader\n",
    "\n",
    "train_dataloader = DataLoader((mnist_train), batch_size=256, shuffle=True)\n",
    "test_dataloader = DataLoader((mnist_test), batch_size=256, shuffle=False)\n",
    "len(test_dataloader)"
   ]
  },
  {
   "cell_type": "code",
   "execution_count": null,
   "id": "efbdbf65-cfcc-4dc0-8bc5-fad5d4bbb130",
   "metadata": {},
   "outputs": [],
   "source": []
  }
 ],
 "metadata": {
  "kernelspec": {
   "display_name": "Python [conda env:base] *",
   "language": "python",
   "name": "conda-base-py"
  },
  "language_info": {
   "codemirror_mode": {
    "name": "ipython",
    "version": 3
   },
   "file_extension": ".py",
   "mimetype": "text/x-python",
   "name": "python",
   "nbconvert_exporter": "python",
   "pygments_lexer": "ipython3",
   "version": "3.12.7"
  }
 },
 "nbformat": 4,
 "nbformat_minor": 5
}
